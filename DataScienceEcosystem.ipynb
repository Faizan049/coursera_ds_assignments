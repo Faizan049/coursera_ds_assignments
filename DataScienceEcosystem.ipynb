{
 "cells": [
  {
   "cell_type": "markdown",
   "id": "20bf2c26-b8a5-4998-a9fd-66896fc7c88a",
   "metadata": {},
   "source": [
    "# Data Science Tools and Ecosystem using H1 style heading."
   ]
  },
  {
   "cell_type": "markdown",
   "id": "69b9331a-9243-465c-9e24-814d1555edef",
   "metadata": {},
   "source": [
    "In this notebook I am going to summarize the Data Science Tools and Ecosystem as an assignment. Later this notebook will be uploaded to GIT-HUB as public repository. "
   ]
  },
  {
   "cell_type": "markdown",
   "id": "6a77ef8c-1cf3-4310-878c-51816ba853fa",
   "metadata": {},
   "source": [
    "**Main Objectives of this notebook are** <br>\n",
    "-To list different languages of data-science <br>\n",
    "-To list different tools of data-science <br>\n",
    "-To list some libraries used in data-science <br>\n",
    "-To write arithmetic expressions  "
   ]
  },
  {
   "cell_type": "markdown",
   "id": "15ddd575-b566-4912-9cfe-aff63d63511b",
   "metadata": {},
   "source": [
    "**Some of the popular languages that Data Scientists use are:** <br>\n",
    "1-Python <br>\n",
    "2-R  <br>\n",
    "3-Julia <br>\n",
    "4-SQL"
   ]
  },
  {
   "cell_type": "markdown",
   "id": "8fedf71f-cf69-4f0a-920e-e9c724760df9",
   "metadata": {
    "tags": []
   },
   "source": [
    "**Some of the commonly used libraries used by Data Scientists include:** <br>\n",
    "1-Pandas <br>\n",
    "1-Numpy <br>\n",
    "1-Matplotlib <br>\n",
    "1-Keras <br>\n",
    "1-Tensorflow "
   ]
  },
  {
   "cell_type": "markdown",
   "id": "ac027c91-84bd-4991-8a81-40adda200707",
   "metadata": {},
   "source": [
    "| Data Science Tools. |\n",
    "| ------|\n",
    "| R Studio |\n",
    "| Jupyter NoteBook |\n",
    "| Py-Charm |\n",
    "| VS Code |"
   ]
  },
  {
   "cell_type": "markdown",
   "id": "cb9e724d-901a-40d9-8645-7806532fe98f",
   "metadata": {},
   "source": [
    "### Below are a few examples of evaluating arithmetic expressions in Python."
   ]
  },
  {
   "cell_type": "code",
   "execution_count": 3,
   "id": "1b26f3ba-5b70-4aac-950c-9f30037e0b45",
   "metadata": {
    "tags": []
   },
   "outputs": [
    {
     "name": "stdout",
     "output_type": "stream",
     "text": [
      "20\n"
     ]
    }
   ],
   "source": [
    "x=10;\n",
    "y=10;\n",
    "z=x+y;\n",
    "print(z)"
   ]
  },
  {
   "cell_type": "code",
   "execution_count": 4,
   "id": "9a832b20-244c-4b96-a225-315b1eeaa9e0",
   "metadata": {
    "tags": []
   },
   "outputs": [
    {
     "name": "stdout",
     "output_type": "stream",
     "text": [
      "5.0\n"
     ]
    }
   ],
   "source": [
    "a=2.5;\n",
    "b=2.5;\n",
    "c=a+b;\n",
    "print(c)"
   ]
  },
  {
   "cell_type": "markdown",
   "id": "708b0621-1ad9-4f04-88ba-b52d008a4e5e",
   "metadata": {},
   "source": [
    "**In the cell bellow we will compute expression (3*4)+5**"
   ]
  },
  {
   "cell_type": "code",
   "execution_count": 8,
   "id": "cb5322d1-1564-4a1c-b62d-f038709e99a0",
   "metadata": {
    "tags": []
   },
   "outputs": [
    {
     "data": {
      "text/plain": [
       "17"
      ]
     },
     "execution_count": 8,
     "metadata": {},
     "output_type": "execute_result"
    }
   ],
   "source": [
    "# Bellow is the simple arithmatic expression having two operators and three operands. \n",
    "# BEcause precedence of multiplocation is high so first parenthesis will be evaluatd \n",
    "# then the result will be added to 5\n",
    "\n",
    "(3*4)+5"
   ]
  },
  {
   "cell_type": "code",
   "execution_count": 10,
   "id": "f6a44f20-b822-4f32-9841-ea23482a734b",
   "metadata": {
    "tags": []
   },
   "outputs": [
    {
     "name": "stdout",
     "output_type": "stream",
     "text": [
      "3.3333333333333335\n"
     ]
    }
   ],
   "source": [
    "# Following Exampel will convert 200 minuts into hours.\n",
    "minuts=200;\n",
    "hours=minuts/60;\n",
    "print(hours);"
   ]
  },
  {
   "cell_type": "code",
   "execution_count": null,
   "id": "7440c0de-c6d5-4ac3-9aeb-d8be51b9e661",
   "metadata": {},
   "outputs": [],
   "source": []
  }
 ],
 "metadata": {
  "kernelspec": {
   "display_name": "Python",
   "language": "python",
   "name": "conda-env-python-py"
  },
  "language_info": {
   "codemirror_mode": {
    "name": "ipython",
    "version": 3
   },
   "file_extension": ".py",
   "mimetype": "text/x-python",
   "name": "python",
   "nbconvert_exporter": "python",
   "pygments_lexer": "ipython3",
   "version": "3.7.12"
  }
 },
 "nbformat": 4,
 "nbformat_minor": 5
}
